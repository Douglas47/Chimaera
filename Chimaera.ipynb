{
 "cells": [
  {
   "cell_type": "markdown",
   "metadata": {},
   "source": [
    "# Criando Quimeras Humano-HIV"
   ]
  },
  {
   "cell_type": "markdown",
   "metadata": {},
   "source": [
    "Única biblioteca importada até o momento foi a random, utilizada em várias momentos para simular a aleatoriedade dos fenômenos biológicos."
   ]
  },
  {
   "cell_type": "code",
   "execution_count": 1,
   "metadata": {},
   "outputs": [],
   "source": [
    "import random"
   ]
  },
  {
   "cell_type": "markdown",
   "metadata": {},
   "source": [
    "A função a seguir transforma um arquivo .fastq em um dicionário onde o identificar da sequência é a chave e a sequência de nucleotídeo é o valor agregado a ela."
   ]
  },
  {
   "cell_type": "code",
   "execution_count": 2,
   "metadata": {},
   "outputs": [],
   "source": [
    "def fastq_to_dict(file):\n",
    "    id = 0\n",
    "    fasta_file = open(file)\n",
    "    output_dict = {}\n",
    "    for line in fasta_file:\n",
    "        line = line.replace(\"\\n\",\"\")\n",
    "        if line.startswith(\"@\"):\n",
    "            id += 1\n",
    "            sequence = \"\"\n",
    "            name = line[1:]\n",
    "            name = name.split()\n",
    "            name = name[0]\n",
    "            \"\"\"Acession Number\"\"\"\n",
    "        elif line.startswith((\"A\",\"T\",\"G\",\"C\")):\n",
    "            sequence += line\n",
    "            output_dict[name] = sequence\n",
    "    fasta_file.close()\n",
    "    return(output_dict)"
   ]
  },
  {
   "cell_type": "markdown",
   "metadata": {},
   "source": [
    "Neste momento são criadas duas variáveis com seu valores sendo o dicionário dos arquivos de origem das sequências reais."
   ]
  },
  {
   "cell_type": "code",
   "execution_count": 3,
   "metadata": {},
   "outputs": [],
   "source": [
    "sequences_1 = fastq_to_dict(\"HIV_01.fastq\")\n",
    "sequences_2 = fastq_to_dict(\"HIV_02.fastq\")"
   ]
  },
  {
   "cell_type": "markdown",
   "metadata": {},
   "source": [
    "Está é a função que gera o dataset artificial e seu arquivo de anotações"
   ]
  },
  {
   "cell_type": "code",
   "execution_count": 4,
   "metadata": {},
   "outputs": [],
   "source": [
    "def random_sequence_builder(hiv_seqs, human_seqs, n_sequences):\n",
    "    \"\"\" Arquivos são criados \"\"\"\n",
    "    dataset = open(\"dataset_artificial.txt\",\"w+\") \n",
    "    annotations = open(\"anotações_dataset.txt\",\"w+\")\n",
    "    n_seqs = 0 # Contador utilizado para limitar o laço while e também nomear as sequências artificiais\n",
    "    \"\"\" Esse laço while é responsável por criar todas as sequências artificias \"\"\"\n",
    "    while n_seqs < n_sequences:\n",
    "        \"\"\" Primeiro se define o que é o nome da sequência e o que é a sequência em si \"\"\"\n",
    "        hiv_seq_id = random.choice(list(hiv_seqs.keys()))\n",
    "        hiv_seq = hiv_seqs[hiv_seq_id]\n",
    "        human_seq_id = random.choice(list(human_seqs.keys()))\n",
    "        human_seq = hiv_seqs[human_seq_id]\n",
    "        \"\"\" Aqui de forma aleatória é definido em que ponto das sequências haverá um corte \"\"\"\n",
    "        sequence_cut = random.randrange(len(hiv_seq))\n",
    "        \"\"\" Aqui é definido se a ordem será Seq_1_parte_1 + Seq_2_parte_2 ou Seq_2_parte_1 + Seq_1_parte_2   \"\"\"\n",
    "        order_seq = random.randrange(2)\n",
    "        if order_seq == 0:\n",
    "            order = \"Seq 1 / Seq 2\"\n",
    "            new_seq = hiv_seq[:sequence_cut] + human_seq[sequence_cut:]\n",
    "        elif order_seq == 1:\n",
    "            order = \"Seq 2 / Seq 1\"\n",
    "            new_seq = human_seq[:sequence_cut] + hiv_seq[sequence_cut:]\n",
    "        n_seqs += 1 # Acréscimo ao contador\n",
    "        \"\"\" Arquivos são preenchidos \"\"\"\n",
    "        dataset.write(\">\" + \"ID_\" + str(n_seqs).zfill(5) + \"\\n\")\n",
    "        dataset.write(new_seq + \"\\n\")\n",
    "        annotations.write(\">\" + \"ID_\" + str(n_seqs).zfill(5) + \"\\n\")\n",
    "        annotations.write(f\"Seq 1: {hiv_seq_id} | Seq 2: {human_seq_id} | Posição: {sequence_cut} | Ordem: {order} \\n\")\n",
    "        annotations.write(\"   \\n\")\n",
    "    \"\"\" Arquivos são fechados \"\"\"\n",
    "    dataset.close()\n",
    "    annotations.close()"
   ]
  },
  {
   "cell_type": "markdown",
   "metadata": {},
   "source": [
    "Agora é só utilizar a função __random_sequence_builder__ passando como parâmetros os dois arquivos das sequências originais e o número de sequências que devem ser criadas."
   ]
  },
  {
   "cell_type": "code",
   "execution_count": 5,
   "metadata": {},
   "outputs": [],
   "source": [
    "random_sequence_builder(sequences_1, sequences_2, 200)"
   ]
  },
  {
   "cell_type": "markdown",
   "metadata": {},
   "source": [
    "Pronto, os dois arquivos, o dataset e as anotações, foram criados no diretório aonde esse Notebook está."
   ]
  }
 ],
 "metadata": {
  "kernelspec": {
   "display_name": "Python 3",
   "language": "python",
   "name": "python3"
  },
  "language_info": {
   "codemirror_mode": {
    "name": "ipython",
    "version": 3
   },
   "file_extension": ".py",
   "mimetype": "text/x-python",
   "name": "python",
   "nbconvert_exporter": "python",
   "pygments_lexer": "ipython3",
   "version": "3.7.6"
  }
 },
 "nbformat": 4,
 "nbformat_minor": 4
}
