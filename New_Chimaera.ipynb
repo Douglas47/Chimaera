{
 "cells": [
  {
   "cell_type": "code",
   "execution_count": 27,
   "metadata": {},
   "outputs": [],
   "source": [
    "import random"
   ]
  },
  {
   "cell_type": "code",
   "execution_count": 28,
   "metadata": {},
   "outputs": [],
   "source": [
    "def fasta_to_dict(file):\n",
    "    fasta_file = open(file)\n",
    "    output_dict = {}\n",
    "    for line in fasta_file:\n",
    "        line = line.replace(\"\\n\",\"\")\n",
    "        if line.startswith(\">\"):\n",
    "            sequence = \"\"\n",
    "            name = line[1:]\n",
    "            name = name.split()\n",
    "            name = name[0]\n",
    "            \"\"\"Acession Number\"\"\"\n",
    "        else:\n",
    "            sequence += line\n",
    "            \"\"\"Sequence\"\"\"\n",
    "        output_dict[name] = sequence\n",
    "    return(output_dict)"
   ]
  },
  {
   "cell_type": "code",
   "execution_count": 41,
   "metadata": {},
   "outputs": [],
   "source": [
    "aocut_value = 10 #area of cut"
   ]
  },
  {
   "cell_type": "code",
   "execution_count": 37,
   "metadata": {},
   "outputs": [],
   "source": [
    "fasta_virus = fasta_to_dict(\"reads_virus.fasta\")\n",
    "fasta_human = fasta_to_dict(\"reads_human.fasta\")\n",
    "virus_list = list(fasta_virus.items())\n",
    "human_list = list(fasta_human.items())"
   ]
  },
  {
   "cell_type": "code",
   "execution_count": 42,
   "metadata": {},
   "outputs": [],
   "source": [
    "def area_of_cut(lenght):\n",
    "    return int(lenght/100 * aocut_value)"
   ]
  },
  {
   "cell_type": "code",
   "execution_count": 69,
   "metadata": {},
   "outputs": [],
   "source": [
    "def chimaera_gen():\n",
    "    virus_seq = random.choice(virus_list)\n",
    "    human_seq = random.choice(human_list)\n",
    "    virus_aocut_range = area_of_cut(len(virus_seq[1]))\n",
    "    human_aocut_range = area_of_cut(len(human_seq[1]))\n",
    "    human_cut = random.randint(human_aocut_range, human_aocut_range*2)\n",
    "    virus_cut = random.randint(virus_aocut_range, virus_aocut_range*2)\n",
    "    order = random.randint(0,1)\n",
    "    if order == 1:\n",
    "        mode = \"human-virus\"\n",
    "        seq = human_seq[1][human_cut:] + virus_seq[1][:virus_cut]\n",
    "    else:\n",
    "        mode = \"virus-human\"\n",
    "        seq = virus_seq[1][virus_cut:] + human_seq[1][:human_cut]\n",
    "    chimaera = [seq, mode, human_seq[0], human_cut , virus_seq[0], virus_cut]\n",
    "    return chimaera\n",
    "    \n",
    "\n"
   ]
  },
  {
   "cell_type": "code",
   "execution_count": 74,
   "metadata": {},
   "outputs": [
    {
     "data": {
      "text/plain": [
       "['CCGTGTGTTATGTAAAAGGTCCGGTTATAGAGTAGGACCACTGAATGACGTCCGCCGCCCTTTAGAGCCGTACCGCGTTGGAGAGAGAATGCTAGTCTGTCGTCACCCGCATGTTTAGATGGGTAGCTCGTGTCCGCAAAATGCCCATCCCCTGTTTCCATTCACCAGCATACGGCGCTCATAATTGAATAACAACCTGTCACCACAACAAAGATGTGCCTCCGTACGCCACCCGCCTAGTAGATGAGGAGCCCTGGTACCATAATTTACCGGCTATGACGCCATACGTTCTGCTGGGGCTATGACCTCAGGAGAATCAGATGACGGGGTTATGGTCACCCATGCGACGGCGATTAGTTATAAAACGTCACAACTAGGGTATGATGCTGACTTATATACCCAAACGGTTAGGTCGCCGCCTAAGCCATAGACGCACCGCTTCCGTACTTCACAACAGTTAAACGAGTGCAGACGAGGAACACAGGGAGCCGCACTGGGTACAAATACGCTTAAATCTCAGGGGTTTATACCAGACTTATATGAGAAGTCTCATGCGCCCGCCAAGCGCGCTGATCTCTTGCCGCGCTTTATATACCCTGCTGTGTTAGACAGACAAGTGAACAATGAGGTCATTCTGAAACAGAAGCTTGGGCAGGATCTAGGGCGTTTGCTGCGAAGATCGTAAAGTAGAAAGGCGGTGCAC TAGCATTCTATATAATCCTCTGCAGGGTAAGGTGCTAGACATGGGGGGGAGCCCCTAATGAGAGCCTTTTAACAGTAAGTAACGCTGCGTCCCACTGCAGGACTTAAGTGGCAGGTAATCTAATGGTTGGTTTTTACGGCCATG',\n",
       " 'human-virus',\n",
       " 'Sequence_human_00002',\n",
       " 108,\n",
       " 'Sequence_virus_00005',\n",
       " 144]"
      ]
     },
     "execution_count": 74,
     "metadata": {},
     "output_type": "execute_result"
    }
   ],
   "source": [
    "chimaera_gen()"
   ]
  },
  {
   "cell_type": "code",
   "execution_count": 73,
   "metadata": {},
   "outputs": [
    {
     "data": {
      "text/plain": [
       "['TCATTTCAGTGTGTGCTCCTATCTTAAGTTCATCGGGGTCGTCATACTTGGTTGTACAAGATAGAGCCTTGATATCGCTATCCCTGCACCGGAAAATAAATTTGTTGCGAATGGTAGAGATACTGACAGAAGGATTATCTCGAGTAATTTATTTCGTCATAGTAGCGGAGACCTTTGAAGTAAGAAGCATGTTTTGGAGCAGGGGATGAATATCATGGGATTACACTCGCCGTCGCACTCCATATCTTGGAGGATGTGTTTATGGTTACCCCTGGAGGCTCACGGTCTGTCCCCCGAGCTATATAGAGGTAAACACGTAGACCCTAAGGATTGGAGCCTCCCCTCACCGTGCCCATTGATTCCTATTGCACATCACCGTTTGAGAGCGTCAGACATGTCGAGAGTAAAACATGTCTGTCGTAAGGCGCCATTGCCTATATTGCGCCGCAAAAGAGGTCTCTCGCCGAGATACGGTTACATTAACAAGAACTTGCTATGTCACGCGTGGGTTAGAGCCTTAGCGCTCGCTTACTTATTAGATTCGCCTAGTGGGTTACGGGAAATGAACTG ATAGAAACTCTACATCGGGCAGGTATGGAGCGGCATGTAGCAATTTCTTGCGACATATTAGCACTGTCCTGCTGAAACGTATCAAGAAATGAACCGAACTTAGCACCCCCATATTCGC',\n",
       " 'virus-human',\n",
       " 'Sequence_human_00004',\n",
       " 118,\n",
       " 'Sequence_virus_00001',\n",
       " 90]"
      ]
     },
     "execution_count": 73,
     "metadata": {},
     "output_type": "execute_result"
    }
   ],
   "source": [
    "chimaera_gen()"
   ]
  },
  {
   "cell_type": "code",
   "execution_count": null,
   "metadata": {},
   "outputs": [],
   "source": []
  }
 ],
 "metadata": {
  "kernelspec": {
   "display_name": "Python 3",
   "language": "python",
   "name": "python3"
  },
  "language_info": {
   "codemirror_mode": {
    "name": "ipython",
    "version": 3
   },
   "file_extension": ".py",
   "mimetype": "text/x-python",
   "name": "python",
   "nbconvert_exporter": "python",
   "pygments_lexer": "ipython3",
   "version": "3.7.6"
  }
 },
 "nbformat": 4,
 "nbformat_minor": 4
}
