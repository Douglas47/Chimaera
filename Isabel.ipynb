{
 "cells": [
  {
   "cell_type": "code",
   "execution_count": 1,
   "metadata": {},
   "outputs": [],
   "source": [
    "import random"
   ]
  },
  {
   "cell_type": "code",
   "execution_count": 2,
   "metadata": {},
   "outputs": [],
   "source": [
    "nucleotides = [\"A\",\"T\",\"C\",\"G\"]"
   ]
  },
  {
   "cell_type": "code",
   "execution_count": 3,
   "metadata": {},
   "outputs": [],
   "source": [
    "codontable = {\n",
    "    'ATA':'I', 'ATC':'I', 'ATT':'I', 'ATG':'M',\n",
    "    'ACA':'T', 'ACC':'T', 'ACG':'T', 'ACT':'T',\n",
    "    'AAC':'N', 'AAT':'N', 'AAA':'K', 'AAG':'K',\n",
    "    'AGC':'S', 'AGT':'S', 'AGA':'R', 'AGG':'R',\n",
    "    'CTA':'L', 'CTC':'L', 'CTG':'L', 'CTT':'L',\n",
    "    'CCA':'P', 'CCC':'P', 'CCG':'P', 'CCT':'P',\n",
    "    'CAC':'H', 'CAT':'H', 'CAA':'Q', 'CAG':'Q',\n",
    "    'CGA':'R', 'CGC':'R', 'CGG':'R', 'CGT':'R',\n",
    "    'GTA':'V', 'GTC':'V', 'GTG':'V', 'GTT':'V',\n",
    "    'GCA':'A', 'GCC':'A', 'GCG':'A', 'GCT':'A',\n",
    "    'GAC':'D', 'GAT':'D', 'GAA':'E', 'GAG':'E',\n",
    "    'GGA':'G', 'GGC':'G', 'GGG':'G', 'GGT':'G',\n",
    "    'TCA':'S', 'TCC':'S', 'TCG':'S', 'TCT':'S',\n",
    "    'TTC':'F', 'TTT':'F', 'TTA':'L', 'TTG':'L',\n",
    "    'TAC':'Y', 'TAT':'Y', 'TAA':'_', 'TAG':'_',\n",
    "    'TGC':'C', 'TGT':'C', 'TGA':'_', 'TGG':'W',\n",
    "    }\n"
   ]
  },
  {
   "cell_type": "code",
   "execution_count": 4,
   "metadata": {},
   "outputs": [],
   "source": [
    "def read_gen(read_length):\n",
    "    read = \"\"\n",
    "    for i in range(read_length):    \n",
    "        nt = random.choice(nucleotides)\n",
    "        read += nt\n",
    "    return read"
   ]
  },
  {
   "cell_type": "code",
   "execution_count": 5,
   "metadata": {},
   "outputs": [],
   "source": [
    "new_seq = read_gen(1000)"
   ]
  },
  {
   "cell_type": "code",
   "execution_count": 6,
   "metadata": {},
   "outputs": [
    {
     "name": "stdout",
     "output_type": "stream",
     "text": [
      "AGACGGCTGTTCCAGGGAAGCTGCCACGCCGTTTTACTATTCTGTAGATGTCTTGAGGTAAGGACCGAGACCGTAGCCCGCTGGTTGTCACTACTGGGCCTTTAAAGCCTTATTCGAGATACTTGTATTCTCGGCTGGGGGGAGGTGAGCCATTCAGTCTGTGGAACTACTATCGTGAGCCAGGCGGTCCCTCACCCTACCACATGGCCGGCGCGGCCAGTGACTGGGGCAAGAGAGGCAGCGAGACTCCCTCCTGCGCACTATCCACGTGCCGGCAAGTATGCGAGAGTTCTATGCTGATCGTCAAAAGCCCACTCGAGGCCTACTACAATCATTCCGAATAATTACACGCGGTCAGATGGCTGCGTCACAAATATACGTACGAGTCTCTACGTAGATCATTCCTTAATAACCCTAGGCTGAGATGGGTACGGTAACCCGAAAGTACAATCACAGGAGATCATACCCAGGGTGTTTGATAGATCTTCTTTCAACAGGAGGGAAAACAGAATAGTCTGAATCTATTGGTACAGCTATAAACTCCATAACAACTATTTACGCAGGTCCCAGCTTCTGACGATCACCGCTGCCTTAAGTCCCTTGATAGCGGAAAATGCTAGACCGTTGCACCAGACCCAGTTTCTGATGTATTAAGTGGTCTTACGGTTACGTAGAAGTTCTGACAGGGCTCCAACCTCTCGTATCATCGCGGGGATTATGGCGCCCAGGCGTATTGGATAATATTTCACCCGGAGCCCCCTCCGACCTCGTCGATCCGGGCACCTACCTCTCGGCGCCCAGTCCGGGCTTTAGGATTCGCCATATTAGTTCACCAGCTGTGTACCACAAGACGGCTACGACTCCAGATGTGCGTGACCCGATATTTCAAGTCCAGATGCCGACTGGAGACATGCTACTTATCTTCAACTATGGAATGACGCGATACACTAACGCGCTGCCCGCGAAGGAGATTGGGCTCTGTGGGCAGGTGTCATTCCAA\n"
     ]
    }
   ],
   "source": [
    "print(new_seq)"
   ]
  },
  {
   "cell_type": "code",
   "execution_count": 7,
   "metadata": {},
   "outputs": [],
   "source": [
    "def CodonsCounter(sequence):\n",
    "    position = 0\n",
    "    codons = ['Position Zero']\n",
    "    while position < len(sequence):\n",
    "        codons.append(sequence[position:position+3])\n",
    "        position +=3\n",
    "    return codons"
   ]
  },
  {
   "cell_type": "code",
   "execution_count": 8,
   "metadata": {},
   "outputs": [],
   "source": [
    "codon_numbers = CodonsCounter(new_seq)"
   ]
  },
  {
   "cell_type": "code",
   "execution_count": 12,
   "metadata": {},
   "outputs": [
    {
     "name": "stdout",
     "output_type": "stream",
     "text": [
      "{'I': ['ATA', 'ATC', 'ATT'], 'M': ['ATG'], 'T': ['ACA', 'ACC', 'ACG', 'ACT'], 'N': ['AAC', 'AAT'], 'K': ['AAA', 'AAG'], 'S': ['AGC', 'AGT', 'TCA', 'TCC', 'TCG', 'TCT'], 'R': ['AGA', 'AGG', 'CGA', 'CGC', 'CGG', 'CGT'], 'L': ['CTA', 'CTC', 'CTG', 'CTT', 'TTA', 'TTG'], 'P': ['CCA', 'CCC', 'CCG', 'CCT'], 'H': ['CAC', 'CAT'], 'Q': ['CAA', 'CAG'], 'V': ['GTA', 'GTC', 'GTG', 'GTT'], 'A': ['GCA', 'GCC', 'GCG', 'GCT'], 'D': ['GAC', 'GAT'], 'E': ['GAA', 'GAG'], 'G': ['GGA', 'GGC', 'GGG', 'GGT'], 'F': ['TTC', 'TTT'], 'Y': ['TAC', 'TAT'], '_': ['TAA', 'TAG', 'TGA'], 'C': ['TGC', 'TGT'], 'W': ['TGG']}\n"
     ]
    }
   ],
   "source": [
    "redundancy = {}\n",
    "for codon in codontable.keys():\n",
    "    if codontable[codon] in redundancy:\n",
    "        redundancy[codontable[codon]].append(codon)\n",
    "    else:\n",
    "        redundancy[codontable[codon]] = [codon]\n",
    "print(redundancy)\n"
   ]
  },
  {
   "cell_type": "code",
   "execution_count": 14,
   "metadata": {},
   "outputs": [],
   "source": [
    "def CodonUsageCalc(codon):\n",
    "    aminoacid = codontable[codon]\n",
    "    codon_usage_abs = codon_numbers.count(codon)\n",
    "    all_codon_usage_abs = 0 \n",
    "    for altcodon in redundancy[aminoacid]:\n",
    "        all_codon_usage_abs += codon_numbers.count(altcodon)\n",
    "    codon_usage = codon_usage_abs / all_codon_usage_abs\n",
    "    return codon_usage"
   ]
  },
  {
   "cell_type": "code",
   "execution_count": 28,
   "metadata": {},
   "outputs": [
    {
     "data": {
      "text/plain": [
       "0.2857142857142857"
      ]
     },
     "execution_count": 28,
     "metadata": {},
     "output_type": "execute_result"
    }
   ],
   "source": [
    "CodonUsageCalc('ACT')"
   ]
  },
  {
   "cell_type": "code",
   "execution_count": 30,
   "metadata": {},
   "outputs": [
    {
     "name": "stdout",
     "output_type": "stream",
     "text": [
      "1.0\n"
     ]
    }
   ],
   "source": [
    "a = CodonUsageCalc('GGA')\n",
    "b = CodonUsageCalc('GGC')\n",
    "c = CodonUsageCalc('GGG')\n",
    "d = CodonUsageCalc('GGT')\n",
    "print(a+b+c+d)"
   ]
  },
  {
   "cell_type": "code",
   "execution_count": null,
   "metadata": {},
   "outputs": [],
   "source": []
  }
 ],
 "metadata": {
  "kernelspec": {
   "display_name": "Python 3",
   "language": "python",
   "name": "python3"
  },
  "language_info": {
   "codemirror_mode": {
    "name": "ipython",
    "version": 3
   },
   "file_extension": ".py",
   "mimetype": "text/x-python",
   "name": "python",
   "nbconvert_exporter": "python",
   "pygments_lexer": "ipython3",
   "version": "3.7.6"
  }
 },
 "nbformat": 4,
 "nbformat_minor": 4
}
