{
 "cells": [
  {
   "cell_type": "code",
   "execution_count": 15,
   "metadata": {},
   "outputs": [],
   "source": [
    "import random"
   ]
  },
  {
   "cell_type": "code",
   "execution_count": 16,
   "metadata": {},
   "outputs": [],
   "source": [
    "nucleotides = [\"A\",\"T\",\"C\",\"G\"]"
   ]
  },
  {
   "cell_type": "code",
   "execution_count": 17,
   "metadata": {},
   "outputs": [],
   "source": [
    "# SETUP\n",
    "max_length = 1000\n",
    "min_length = 500\n",
    "qtd_sequences = 5\n",
    "filename_virus = \"reads_virus\"\n",
    "filename_human = \"reads_human\""
   ]
  },
  {
   "cell_type": "code",
   "execution_count": 18,
   "metadata": {},
   "outputs": [],
   "source": [
    "def read_gen(min_length,max_length):\n",
    "    read_length = random.randint(min_length,max_length)\n",
    "    read = \"\"\n",
    "    for i in range(read_length):    \n",
    "        nt = random.choice(nucleotides)\n",
    "        read += nt\n",
    "    return read"
   ]
  },
  {
   "cell_type": "code",
   "execution_count": 19,
   "metadata": {},
   "outputs": [],
   "source": [
    "def insert_newlines(string, every=64):\n",
    "    lines = []\n",
    "    for i in range(0, len(string), every):\n",
    "        lines.append(string[i:i+every])\n",
    "    return '\\n'.join(lines)"
   ]
  },
  {
   "cell_type": "code",
   "execution_count": 22,
   "metadata": {},
   "outputs": [],
   "source": [
    "def fasta_gen(filename,qtd_sequences,seq_type):\n",
    "    file = filename + \".fasta\"\n",
    "    with open(file, \"w\") as file:\n",
    "        for i in range(qtd_sequences):\n",
    "            seq_number = i+1\n",
    "            file.write(\">Sequence_%s_%05d \\n\" % (seq_type,seq_number))\n",
    "            seq = read_gen(min_length,max_length)\n",
    "            seq = insert_newlines(seq, every=80)\n",
    "            file.write(seq + \" \\n\")"
   ]
  },
  {
   "cell_type": "code",
   "execution_count": 23,
   "metadata": {},
   "outputs": [],
   "source": [
    "fasta_gen(filename_virus, qtd_sequences, \"virus\")\n",
    "fasta_gen(filename_human, qtd_sequences, \"human\")"
   ]
  },
  {
   "cell_type": "code",
   "execution_count": null,
   "metadata": {},
   "outputs": [],
   "source": []
  }
 ],
 "metadata": {
  "kernelspec": {
   "display_name": "Python 3",
   "language": "python",
   "name": "python3"
  },
  "language_info": {
   "codemirror_mode": {
    "name": "ipython",
    "version": 3
   },
   "file_extension": ".py",
   "mimetype": "text/x-python",
   "name": "python",
   "nbconvert_exporter": "python",
   "pygments_lexer": "ipython3",
   "version": "3.7.6"
  }
 },
 "nbformat": 4,
 "nbformat_minor": 4
}
