{
 "cells": [
  {
   "cell_type": "code",
   "execution_count": 27,
   "metadata": {},
   "outputs": [],
   "source": [
    "import random"
   ]
  },
  {
   "cell_type": "code",
   "execution_count": 28,
   "metadata": {},
   "outputs": [],
   "source": [
    "def fasta_to_dict(file):\n",
    "    fasta_file = open(file)\n",
    "    output_dict = {}\n",
    "    for line in fasta_file:\n",
    "        line = line.replace(\"\\n\",\"\")\n",
    "        if line.startswith(\">\"):\n",
    "            sequence = \"\"\n",
    "            name = line[1:]\n",
    "            name = name.split()\n",
    "            name = name[0]\n",
    "            \"\"\"Acession Number\"\"\"\n",
    "        else:\n",
    "            sequence += line\n",
    "            \"\"\"Sequence\"\"\"\n",
    "        output_dict[name] = sequence\n",
    "    return(output_dict)"
   ]
  },
  {
   "cell_type": "code",
   "execution_count": null,
   "metadata": {},
   "outputs": [],
   "source": [
    "aocut = 15 #area of cut"
   ]
  },
  {
   "cell_type": "code",
   "execution_count": 29,
   "metadata": {},
   "outputs": [],
   "source": [
    "fasta_virus = fasta_to_dict(\"reads_virus.fasta\")\n",
    "fasta_human = fasta_to_dict(\"reads_human.fasta\")\n",
    "virus_list = list(fasta_virus.items())\n",
    "human_list = list(fasta_human.items())"
   ]
  },
  {
   "cell_type": "code",
   "execution_count": 30,
   "metadata": {},
   "outputs": [],
   "source": [
    "def chimaera_gen():\n",
    "    chimaera = []\n",
    "    virus_seq = random.choice(virus_list)\n",
    "    human_seq = random.choice(human_list)\n",
    "    print(human_seq)\n",
    "    print(virus_seq)"
   ]
  },
  {
   "cell_type": "code",
   "execution_count": 33,
   "metadata": {},
   "outputs": [
    {
     "name": "stdout",
     "output_type": "stream",
     "text": [
      "('Sequence_human_00005', 'CTAAAGTGGATTTGTCTTCATTCTATTCAAACAAGGTCCGTCTCCCCACCTAGGAAAAGTCACGTATTATTAGATCATAGCAAGGAGTTAATTAACTCGAGCTTTTCTTTGTCAAGTAGACTATGCTGCACTTCTGCTGGCGTCTCTTGGAAATATGGAATACTCATTACGTCACGGGATTTTAGGACGAGAGCCGCAGTGGTATGTACAACCGTCGTACGTCTTATTCATGTAGTAGCTTTATGGGTACTCGTATTATTTGGCGGCGCTGTCGGCCAGATAGCGGAAACTGGGACCGCAAAGGTAATCAATAGAAGAAGCGTGGATTGAGCCAGGAGTTCACGGAAGGATCATGGTGTCGCTAAGACTGCTATTCTAGTTCCAATAGACATAAGACTCAACCAACGGGGGGACAGTTTGCTTCTCGCGGCGCCTGCACTTTTGTTGAGCGGTCTAGAAATGTGGTGAGGAGGAAGACCCCGTGTCCACCATGACTGCCTGATATCAAACGCATCGTGATAAAGCGGGTTCGGTCCTATTGATCCGGAAAAGATCCGCCTTAGTACATGTGTTGTTGCGTAGGATTGTCGAGAGATAACTTACGTACTTGAGCCTCATAAGAACTATAAACCCAAAGGACTCCACCTCTTTCTGAATAGGGTCTGTCAGCTGG ')\n",
      "('Sequence_virus_00005', 'TAGCATTCTATATAATCCTCTGCAGGGTAAGGTGCTAGACATGGGGGGGAGCCCCTAATGAGAGCCTTTTAACAGTAAGTAACGCTGCGTCCCACTGCAGGACTTAAGTGGCAGGTAATCTAATGGTTGGTTTTTACGGCCATGTCGTGGGCGTCATGTCGCCCATGTGACCGTCCTAAATAGTCCACAGTGGTTTGACCCGGTGCAATCCCATTAGGCAACCAACAAAGGTCGCATCCAGTTAACCACGAGATCTAACCGTGACTAATGGCAATAACCACTAGATTCTCGAAGGTTGGCGCATCATCACCGTCCGATTGTGGTCCAATTGGTGGGAACTCCAAAGAAGACGTTGCACTTGGTGCACAGTCTATTTCGGGCCTTTTCGATACCCTGTATCTTACGGTACCCATTCCCGAATGTAAGTTCGAGAGCTATCAGCCGCTGTCGTCAGTTACCCCTGGTGATGCCCTAGCCGAGAGAGGTGTTGACGTAGAAGCGGTGCATTACATAGAGATTTGTTATGGTATATTTGGACTAGAGAGGATCTCGCACTTAAAAGGCCAAATTGTTTTGGGGGGCCGATCGATGGAACCATGCTTAGGTTATGAGCTCGGTTTTTATGTACCATTGGAAGGCACCGTCGTCTGCGTTTAGCAGTTACGGTCCTTTCACAATCGATGTTACCAAATTGCAGTTTCCATAAGGAGCTTCAAAGCTCCATTTGGTATAGAGTCTCACGCTATCCCCGTGAAAAGACACTCAGGTAGCCCGAGGCCACTGCGCGCCTGTCAATCATACTACCAACTGTTCTGGCGTTAGAGAGATAGCTGGGGTCTAGTAACAACTTACCCCAACGCATTGACACTGGTCCGGTCAAATAGACACTGCAGGAATGGGATGGTCTTGGACATTCCCCTGCTCTTGCCTGGGAAAGCG ')\n"
     ]
    }
   ],
   "source": [
    "chimaera_gen()"
   ]
  },
  {
   "cell_type": "code",
   "execution_count": null,
   "metadata": {},
   "outputs": [],
   "source": []
  }
 ],
 "metadata": {
  "kernelspec": {
   "display_name": "Python 3",
   "language": "python",
   "name": "python3"
  },
  "language_info": {
   "codemirror_mode": {
    "name": "ipython",
    "version": 3
   },
   "file_extension": ".py",
   "mimetype": "text/x-python",
   "name": "python",
   "nbconvert_exporter": "python",
   "pygments_lexer": "ipython3",
   "version": "3.7.6"
  }
 },
 "nbformat": 4,
 "nbformat_minor": 4
}
