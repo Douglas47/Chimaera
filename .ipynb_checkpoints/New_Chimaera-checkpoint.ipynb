{
 "cells": [
  {
   "cell_type": "code",
   "execution_count": 1,
   "metadata": {},
   "outputs": [],
   "source": [
    "import random"
   ]
  },
  {
   "cell_type": "code",
   "execution_count": 2,
   "metadata": {},
   "outputs": [],
   "source": [
    "def fasta_to_dict(file):\n",
    "    fasta_file = open(file)\n",
    "    output_dict = {}\n",
    "    for line in fasta_file:\n",
    "        line = line.replace(\"\\n\",\"\")\n",
    "        if line.startswith(\">\"):\n",
    "            sequence = \"\"\n",
    "            name = line[1:]\n",
    "            name = name.split()\n",
    "            name = name[0]\n",
    "            \"\"\"Acession Number\"\"\"\n",
    "        else:\n",
    "            sequence += line\n",
    "            \"\"\"Sequence\"\"\"\n",
    "        output_dict[name] = sequence\n",
    "    return(output_dict)"
   ]
  },
  {
   "cell_type": "code",
   "execution_count": 3,
   "metadata": {},
   "outputs": [],
   "source": [
    "aocut_value = 10 #area of cut"
   ]
  },
  {
   "cell_type": "code",
   "execution_count": 4,
   "metadata": {},
   "outputs": [],
   "source": [
    "fasta_virus = fasta_to_dict(\"reads_virus.fasta\")\n",
    "fasta_human = fasta_to_dict(\"reads_human.fasta\")\n",
    "virus_list = list(fasta_virus.items())\n",
    "human_list = list(fasta_human.items())"
   ]
  },
  {
   "cell_type": "code",
   "execution_count": 5,
   "metadata": {},
   "outputs": [],
   "source": [
    "def area_of_cut(lenght):\n",
    "    return int(lenght/100 * aocut_value)"
   ]
  },
  {
   "cell_type": "code",
   "execution_count": 6,
   "metadata": {},
   "outputs": [],
   "source": [
    "def chimaera_gen():\n",
    "    virus_seq = random.choice(virus_list)\n",
    "    human_seq = random.choice(human_list)\n",
    "    virus_aocut_range = area_of_cut(len(virus_seq[1]))\n",
    "    human_aocut_range = area_of_cut(len(human_seq[1]))\n",
    "    virus_max_cut = int(len(virus_seq[1])/2) + virus_aocut_range\n",
    "    virus_min_cut = int(len(virus_seq[1])/2) - virus_aocut_range\n",
    "    human_max_cut = int(len(human_seq[1])/2) + human_aocut_range\n",
    "    human_min_cut = int(len(human_seq[1])/2) - human_aocut_range\n",
    "    human_cut = random.randint(human_min_cut, human_max_cut)\n",
    "    virus_cut = random.randint(virus_min_cut, virus_max_cut)\n",
    "    order = random.randint(0,1)\n",
    "    if order == 1:\n",
    "        mode = \"human-virus\"\n",
    "        seq = human_seq[1][human_cut:] + virus_seq[1][:virus_cut]\n",
    "    else:\n",
    "        mode = \"virus-human\"\n",
    "        seq = virus_seq[1][virus_cut:] + human_seq[1][:human_cut]\n",
    "    chimaera = [seq, mode, human_seq[0], human_cut , virus_seq[0], virus_cut]\n",
    "    return chimaera\n",
    "    \n",
    "\n"
   ]
  },
  {
   "cell_type": "code",
   "execution_count": 7,
   "metadata": {},
   "outputs": [
    {
     "data": {
      "text/plain": [
       "['ACATAAGACTCAACCAACGGGGGGACAGTTTGCTTCTCGCGGCGCCTGCACTTTTGTTGAGCGGTCTAGAAATGTGGTGAGGAGGAAGACCCCGTGTCCACCATGACTGCCTGATATCAAACGCATCGTGATAAAGCGGGTTCGGTCCTATTGATCCGGAAAAGATCCGCCTTAGTACATGTGTTGTTGCGTAGGATTGTCGAGAGATAACTTACGTACTTGAGCCTCATAAGAACTATAAACCCAAAGGACTCCACCTCTTTCTGAATAGGGTCTGTCAGCTGG CGGATATCGGTTCTTTCATGTAGTAGTTCTAGCCAAGTGGATGTCCACGTACATCTTCTTTATATATTCGGACGTAACTTAACTCTGCTGCCGTTCGCTTAAAATCCCTATGTAAAGTCAACAAAACGCGGTTCGCTGATCATCCCGGGCGTTCGGTACGGAGCGCACCTATTGTCAACTGCCATAGGGTGAACGAAAGCGATCTATGTGAAGTCTTAACCGACTATCCAGGTTGCCGATATTTCGGACACAAACCGGAGAGGGAGATCAGTCAAATGTTCCCATTTGCTTAGCT',\n",
       " 'human-virus',\n",
       " 'Sequence_human_00005',\n",
       " 388,\n",
       " 'Sequence_virus_00004',\n",
       " 295]"
      ]
     },
     "execution_count": 7,
     "metadata": {},
     "output_type": "execute_result"
    }
   ],
   "source": [
    "chimaera_gen()"
   ]
  },
  {
   "cell_type": "code",
   "execution_count": 8,
   "metadata": {},
   "outputs": [
    {
     "data": {
      "text/plain": [
       "['GCGAAGGTCCGCGCACCGCATCTCCAACAGACCAGGGATGTGTATAATGCTCTCACTGGTCCGACTGGTACTGCATTCTCTGCCTCCTTCTCTCCCGAGGTTCCGGGCAGTTGTCTTACGCTAGATCCTGGATCCAGCTCCTCTCCAGGCTGGCGGTCGACAGAATGCAATCGGGTACTGGACACGTGTTGGCGGTGTCCTGACGTTCCGTCGGCTAAAAGCTCCGGTAAATCTTACACGTTAATGCACGCGCCGTCGTGTTACAGGAGCGCCGGTGCCCTACTTGTTGCACCTCCACACTTAAGTGGCGGGATGGGCGCATATCAGGCTTCGATAGAAATACGAGGACCGGGGCCTGCTGAACTTAGAGCGGCTCATGTCTTATCAAAGGCTGCTCGCACTTCAGTCT GCTTGGGATAGTGTGCGGGACCTGTTATTGTCGGAATAAAAGCACTTCGTTAGCAGGCTCCCTATAACCAGGAACCACCTCGTTACGTCCGCTCAAACCATCGCCTTCTTACAGCATTCACCTCGCAGCACTGGATAAATTCCCTTCCGCACTCGAAGGAGGCCAGGAAAAGCTACACCCGACTTTGATACAACTAGACTGGTCATTACACTTGAAACGTGATTGTTAATATGTCACACATTCGACAAGCTAGCAGTAATCTATGTTAGACCCCTCTATGCGAGTGGGTTCAAAGACGCTGCACTCTCGTTTAGCGAGTACATGGGTCCCTCTATAAACCTTTCAGGCCCGCGCAGTTTTAACGGGAGACGCGCACATCATTGGTTATGGATGAACGATGAACGCTCTTCCAAAAGATAAAGCTCTTGAGGGTGAGTGACTTAGAAATTTGTCTATTGCCCATAATTGCAATAAGGGAGGGTCGGACACATATAAAGACGGCACTGATAATGGGTCTCAGCAATTCATGAACGACAAG',\n",
       " 'human-virus',\n",
       " 'Sequence_human_00003',\n",
       " 552,\n",
       " 'Sequence_virus_00003',\n",
       " 538]"
      ]
     },
     "execution_count": 8,
     "metadata": {},
     "output_type": "execute_result"
    }
   ],
   "source": [
    "chimaera_gen()"
   ]
  },
  {
   "cell_type": "markdown",
   "metadata": {},
   "source": [
    "To Do: Preciso alinhar as sequências para garantir que os cortes estão sendo feitos da forma correta"
   ]
  }
 ],
 "metadata": {
  "kernelspec": {
   "display_name": "Python 3",
   "language": "python",
   "name": "python3"
  },
  "language_info": {
   "codemirror_mode": {
    "name": "ipython",
    "version": 3
   },
   "file_extension": ".py",
   "mimetype": "text/x-python",
   "name": "python",
   "nbconvert_exporter": "python",
   "pygments_lexer": "ipython3",
   "version": "3.7.6"
  }
 },
 "nbformat": 4,
 "nbformat_minor": 4
}
