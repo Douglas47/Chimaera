{
 "cells": [
  {
   "cell_type": "code",
   "execution_count": 1,
   "metadata": {},
   "outputs": [],
   "source": [
    "import random"
   ]
  },
  {
   "cell_type": "code",
   "execution_count": 2,
   "metadata": {},
   "outputs": [],
   "source": [
    "def fastq_to_dict(file):\n",
    "    id = 0\n",
    "    fasta_file = open(file)\n",
    "    output_dict = {}\n",
    "    for line in fasta_file:\n",
    "        line = line.replace(\"\\n\",\"\")\n",
    "        if line.startswith(\"@\"):\n",
    "            id += 1\n",
    "            sequence = \"\"\n",
    "            name = line[1:]\n",
    "            name = name.split()\n",
    "            name = name[0]\n",
    "            \"\"\"Acession Number\"\"\"\n",
    "        elif line.startswith((\"A\",\"T\",\"G\",\"C\")):\n",
    "            sequence += line\n",
    "            output_dict[name] = sequence\n",
    "    fasta_file.close()\n",
    "    return(output_dict)"
   ]
  },
  {
   "cell_type": "code",
   "execution_count": 3,
   "metadata": {},
   "outputs": [],
   "source": [
    "sequences_1 = fastq_to_dict(\"HIV_01.fastq\")\n",
    "sequences_2 = fastq_to_dict(\"HIV_02.fastq\")"
   ]
  },
  {
   "cell_type": "code",
   "execution_count": 4,
   "metadata": {},
   "outputs": [],
   "source": [
    "def random_sequence_coordinates(seq_1, seq_2):\n",
    "    cut_1 = random.randrange(len(seq_1))\n",
    "    cut_2 = random.randrange(len(seq_2))\n",
    "    return (cut_1, cut_2)\n"
   ]
  },
  {
   "cell_type": "code",
   "execution_count": 5,
   "metadata": {},
   "outputs": [],
   "source": [
    "def random_sequence_builder(hiv_seqs, human_seqs, n_sequences):\n",
    "    file = open(\"dataset_artificial.txt\",\"w+\")\n",
    "    n_seqs = 0\n",
    "    while n_seqs < n_sequences:\n",
    "        hiv_seq_id = random.choice(list(hiv_seqs.keys()))\n",
    "        hiv_seq = hiv_seqs[hiv_seq_id]\n",
    "        human_seq_id = random.choice(list(human_seqs.keys()))\n",
    "        human_seq = hiv_seqs[human_seq_id]\n",
    "        coordinates = random_sequence_coordinates(hiv_seq, human_seq)\n",
    "        order_seq = random.randrange(2)\n",
    "        if order_seq == 0:\n",
    "            order = \"Seq 1 / Seq 2\"\n",
    "            new_seq = hiv_seq[:coordinates[0]] + human_seq[coordinates[1]:]\n",
    "        elif order_seq == 1:\n",
    "            order = \"Seq 2 / Seq 1\"\n",
    "            new_seq = human_seq[:coordinates[1]] + hiv_seq[coordinates[0]:]\n",
    "        n_seqs += 1\n",
    "        file.write(\">\" + \"ID_\" + str(n_seqs).zfill(5) + \"\\n\")\n",
    "        file.write(new_seq + \"\\n\")\n",
    "        file.write(f\"ANOTAÇÕES Seq 1: {hiv_seq_id} | Seq 2: {human_seq_id} | Posições: {coordinates} | Ordem: {order} \\n\")\n",
    "        file.write(\"   \\n\")\n",
    "    file.close()"
   ]
  },
  {
   "cell_type": "code",
   "execution_count": 6,
   "metadata": {},
   "outputs": [],
   "source": [
    "random_sequence_builder(sequences_1, sequences_2, 200)"
   ]
  }
 ],
 "metadata": {
  "kernelspec": {
   "display_name": "Python 3",
   "language": "python",
   "name": "python3"
  },
  "language_info": {
   "codemirror_mode": {
    "name": "ipython",
    "version": 3
   },
   "file_extension": ".py",
   "mimetype": "text/x-python",
   "name": "python",
   "nbconvert_exporter": "python",
   "pygments_lexer": "ipython3",
   "version": "3.7.6"
  }
 },
 "nbformat": 4,
 "nbformat_minor": 4
}
